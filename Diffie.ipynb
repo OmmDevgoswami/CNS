{
  "nbformat": 4,
  "nbformat_minor": 0,
  "metadata": {
    "colab": {
      "provenance": []
    },
    "kernelspec": {
      "name": "python3",
      "display_name": "Python 3"
    },
    "language_info": {
      "name": "python"
    }
  },
  "cells": [
    {
      "cell_type": "code",
      "execution_count": null,
      "metadata": {
        "colab": {
          "base_uri": "https://localhost:8080/"
        },
        "id": "uaHds14vtxMC",
        "outputId": "8ca79ec2-a986-4e88-e023-6998b75431d3"
      },
      "outputs": [
        {
          "output_type": "stream",
          "name": "stdout",
          "text": [
            "Enter a prime number (p): 23\n",
            "Enter a primitive root modulo p (alpha): 5\n",
            "Enter Alice's private key (a): 8\n",
            "Enter Bob's private key (b): 2\n",
            "\n",
            "=== Diffie-Hellman Key Exchange ===\n",
            "Public Parameters: p = 23, alpha = 5\n",
            "Alice's Private Key: a = 8\n",
            "Bob's Private Key: b = 2\n",
            "Alice's Public Key (A = alpha^a mod p): 16\n",
            "Bob's Public Key (B = alpha^b mod p): 2\n",
            "Alice's Shared Key (k1 = B^a mod p): 3\n",
            "Bob's Shared Key (k2 = A^b mod p): 3\n",
            "Keys Match: True\n"
          ]
        }
      ],
      "source": [
        "# User input for public parameters\n",
        "p = int(input(\"Enter a prime number (p): \"))\n",
        "alpha = int(input(\"Enter a primitive root modulo p (alpha): \"))\n",
        "\n",
        "# User input for private keys\n",
        "a = int(input(\"Enter Alice's private key (a): \"))\n",
        "b = int(input(\"Enter Bob's private key (b): \"))\n",
        "\n",
        "# Compute public keys\n",
        "A = pow(alpha, a, p)  # A = alpha^a mod p\n",
        "B = pow(alpha, b, p)  # B = alpha^b mod p\n",
        "\n",
        "# Compute shared secret keys\n",
        "k1 = pow(B, a, p)     # Alice computes k1 = B^a mod p\n",
        "k2 = pow(A, b, p)     # Bob computes k2 = A^b mod p\n",
        "\n",
        "# Output results\n",
        "print(\"\\n=== Diffie-Hellman Key Exchange ===\")\n",
        "print(f\"Public Parameters: p = {p}, alpha = {alpha}\")\n",
        "print(f\"Alice's Private Key: a = {a}\")\n",
        "print(f\"Bob's Private Key: b = {b}\")\n",
        "print(f\"Alice's Public Key (A = alpha^a mod p): {A}\")\n",
        "print(f\"Bob's Public Key (B = alpha^b mod p): {B}\")\n",
        "print(f\"Alice's Shared Key (k1 = B^a mod p): {k1}\")\n",
        "print(f\"Bob's Shared Key (k2 = A^b mod p): {k2}\")\n",
        "print(\"Keys Match:\", k1 == k2)\n",
        "\n"
      ]
    }
  ]
}