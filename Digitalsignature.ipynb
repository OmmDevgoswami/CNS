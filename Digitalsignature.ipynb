{
  "nbformat": 4,
  "nbformat_minor": 0,
  "metadata": {
    "colab": {
      "provenance": []
    },
    "kernelspec": {
      "name": "python3",
      "display_name": "Python 3"
    },
    "language_info": {
      "name": "python"
    }
  },
  "cells": [
    {
      "cell_type": "code",
      "source": [
        "pip install cryptography"
      ],
      "metadata": {
        "colab": {
          "base_uri": "https://localhost:8080/"
        },
        "id": "FWjOKrqjY7P2",
        "outputId": "3305f9f2-0fc8-46e4-a325-d869726940c0"
      },
      "execution_count": 5,
      "outputs": [
        {
          "output_type": "stream",
          "name": "stdout",
          "text": [
            "Requirement already satisfied: cryptography in /usr/local/lib/python3.11/dist-packages (43.0.3)\n",
            "Requirement already satisfied: cffi>=1.12 in /usr/local/lib/python3.11/dist-packages (from cryptography) (1.17.1)\n",
            "Requirement already satisfied: pycparser in /usr/local/lib/python3.11/dist-packages (from cffi>=1.12->cryptography) (2.22)\n"
          ]
        }
      ]
    },
    {
      "cell_type": "code",
      "execution_count": 7,
      "metadata": {
        "colab": {
          "base_uri": "https://localhost:8080/"
        },
        "id": "E32BouExQfBa",
        "outputId": "3cb99b1d-50d0-4bd6-cd29-d786a5275fa3"
      },
      "outputs": [
        {
          "output_type": "stream",
          "name": "stdout",
          "text": [
            "Original Message: b'This is a secure message.'\n",
            "Digital Signature Created.\n",
            "Signature verified: Source is authentic.\n"
          ]
        }
      ],
      "source": [
        "from cryptography.hazmat.primitives import hashes\n",
        "from cryptography.hazmat.primitives.asymmetric import rsa, padding\n",
        "from cryptography.hazmat.primitives import serialization\n",
        "\n",
        "# 1. Generate RSA Key Pair\n",
        "private_key = rsa.generate_private_key(public_exponent=65537, key_size=2048)\n",
        "public_key = private_key.public_key()\n",
        "\n",
        "# 2. Sender signs the message using private key\n",
        "message = b\"This is a secure message.\"\n",
        "\n",
        "signature = private_key.sign(\n",
        "    message,\n",
        "    padding.PSS(\n",
        "        mgf=padding.MGF1(hashes.SHA256()),\n",
        "        salt_length=padding.PSS.MAX_LENGTH\n",
        "    ),\n",
        "    hashes.SHA256()\n",
        ")\n",
        "\n",
        "print(\"Original Message:\", message)\n",
        "print(\"Digital Signature Created.\")\n",
        "\n",
        "# 3. Receiver verifies the signature using public key\n",
        "try:\n",
        "    public_key.verify(\n",
        "        signature,\n",
        "        message,\n",
        "        padding.PSS(\n",
        "            mgf=padding.MGF1(hashes.SHA256()),\n",
        "            salt_length=padding.PSS.MAX_LENGTH\n",
        "        ),\n",
        "        hashes.SHA256()\n",
        "    )\n",
        "    print(\"Signature verified: Source is authentic.\")\n",
        "except:\n",
        "    print(\"Signature verification failed: Source is NOT authentic.\")"
      ]
    }
  ]
}